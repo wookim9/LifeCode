{
  "nbformat": 4,
  "nbformat_minor": 0,
  "metadata": {
    "colab": {
      "provenance": [],
      "authorship_tag": "ABX9TyNnOO3iFawKSpxlHi9xD3Wp",
      "include_colab_link": true
    },
    "kernelspec": {
      "name": "python3",
      "display_name": "Python 3"
    },
    "language_info": {
      "name": "python"
    }
  },
  "cells": [
    {
      "cell_type": "markdown",
      "metadata": {
        "id": "view-in-github",
        "colab_type": "text"
      },
      "source": [
        "<a href=\"https://colab.research.google.com/github/wookim9/LifeCode/blob/main/First_code.ipynb\" target=\"_parent\"><img src=\"https://colab.research.google.com/assets/colab-badge.svg\" alt=\"Open In Colab\"/></a>"
      ]
    },
    {
      "cell_type": "markdown",
      "source": [
        "나의 첫번째 코드"
      ],
      "metadata": {
        "id": "sPSzS8mwzwWE"
      }
    },
    {
      "cell_type": "code",
      "execution_count": 2,
      "metadata": {
        "colab": {
          "base_uri": "https://localhost:8080/"
        },
        "id": "zlBkmFHayyJI",
        "outputId": "33824ba6-0556-44e1-d436-3208406293fb"
      },
      "outputs": [
        {
          "output_type": "stream",
          "name": "stdout",
          "text": [
            "kimgeonwoo\n"
          ]
        }
      ],
      "source": [
        "name = \"kimgeonwoo\";\n",
        "print(name)"
      ]
    },
    {
      "cell_type": "markdown",
      "source": [
        "코딩 두번째, Hello World! 만들기"
      ],
      "metadata": {
        "id": "BxPEv3hj29S0"
      }
    },
    {
      "cell_type": "code",
      "source": [
        "name = \"Hello World!\";\n",
        "print(name)"
      ],
      "metadata": {
        "colab": {
          "base_uri": "https://localhost:8080/"
        },
        "id": "ESxdMEpP3HBk",
        "outputId": "89ba73cf-e832-425d-d8ca-fac39304cab2"
      },
      "execution_count": 3,
      "outputs": [
        {
          "output_type": "stream",
          "name": "stdout",
          "text": [
            "Hello World!\n"
          ]
        }
      ]
    },
    {
      "cell_type": "code",
      "source": [
        "print(\"Hello World!\")"
      ],
      "metadata": {
        "colab": {
          "base_uri": "https://localhost:8080/"
        },
        "id": "1VE2-Dum4jXN",
        "outputId": "1b7e575c-bc4a-4a64-a1a5-4f9d93a8dc55"
      },
      "execution_count": 4,
      "outputs": [
        {
          "output_type": "stream",
          "name": "stdout",
          "text": [
            "Hello World!\n"
          ]
        }
      ]
    }
  ]
}